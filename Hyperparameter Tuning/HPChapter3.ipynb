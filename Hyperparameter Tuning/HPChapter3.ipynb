import pandas as pd
import numpy as np
import matplotlib.pyplot as plt
import seaborn as sns

creadit_data = pd.read_csv('../Hyperparameter Tuning/Dataset/credit-card-full.csv')
